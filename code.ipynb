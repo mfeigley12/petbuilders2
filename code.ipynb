{
 "cells": [
  {
   "cell_type": "code",
   "execution_count": 7,
   "metadata": {
    "collapsed": true
   },
   "outputs": [],
   "source": [
    "# how to set to GPU***\n",
    "import learn as learn\n",
    "import numpy as np\n",
    "import pandas as pd\n",
    "import os\n",
    "import tensorflow as tf\n",
    "import wandb.wandb_torch as torch\n",
    "import fastai.vision.all\n",
    "import sys\n",
    "import timm\n",
    "import torch.nn.functional as tnnf\n",
    "from glob import glob\n",
    "from os import walk"
   ]
  },
  {
   "cell_type": "code",
   "execution_count": 8,
   "outputs": [],
   "source": [
    "def file_loader():\n",
    "    path = 'petfinder-pawpularity-score/'\n",
    "\n",
    "    train_df = pd.read_csv(path + 'train.csv')\n",
    "    test_df = pd.read_csv(path + 'test.csv')\n",
    "    train_jpg = glob(path + \"train/*.jpg\")\n",
    "    test_jpg = glob(path + \"test/*.jpg\")\n",
    "\n",
    "    print('test_jpg is of type ', type(test_jpg[0]), ' and length ', len(test_jpg))\n",
    "    print(test_jpg[0])\n",
    "    return train_df, test_df, train_jpg, train_df, path"
   ],
   "metadata": {
    "collapsed": false,
    "pycharm": {
     "name": "#%%\n"
    }
   }
  },
  {
   "cell_type": "code",
   "execution_count": 13,
   "outputs": [],
   "source": [
    "def data_loader(train_df, test_df, train_jpg, test_jpg, dataset_path):\n",
    "    fastai.vision.all.set_seed(999, reproducible=True)\n",
    "    train_df['path'] = train_df['Id'].map(lambda x: str(dataset_path + 'train/' + x) + '.jpg')\n",
    "    train_df = train_df.drop(columns=['Id'])\n",
    "    train_df = train_df.sample(frac=1).reset_index(drop=True)  # shuffle dataframe\n",
    "    print(train_df.info(max_cols=train_df.shape[1]))\n",
    "    train_df['Pawpularity'].hist(figsize=(10, 5))\n",
    "    print(f\"The mean Pawpularity score is {train_df['Pawpularity'].mean()}\")\n",
    "    print(f\"The median Pawpularity score is {train_df['Pawpularity'].median()}\")\n",
    "    print(f\"The standard deviation of the Pawpularity score is {train_df['Pawpularity'].std()}\")\n",
    "    print(f\"There are {len(train_df['Pawpularity'].unique())} unique values of Pawpularity score\")\n",
    "    train_df['norm_score'] = train_df['Pawpularity'] / 100\n",
    "    print(train_df['norm_score'])\n",
    "    im = fastai.vision.all.Image.open(train_df['path'][1])\n",
    "    width, height = im.size\n",
    "    print(width, height)\n",
    "    dls2 = fastai.vision.all.ImageDataLoaders.from_df(train_df,  # pass in train DataFrame\n",
    "                                                      valid_pct=0.2,  # 80-20 train-validation random split\n",
    "                                                      seed=999,  # seed\n",
    "                                                      fn_col='path',\n",
    "                                                      # filename/path is in the second column of the\n",
    "                                                      # DataFrame\n",
    "                                                      label_col='norm_score',\n",
    "                                                      # label is in the first column of the DataFrame\n",
    "                                                      y_block=fastai.vision.all.RegressionBlock,\n",
    "                                                      # The type of target\n",
    "                                                      bs=32,  # pass in batch size\n",
    "                                                      num_workers=8,\n",
    "                                                      item_tfms=fastai.vision.all.Resize(224),\n",
    "                                                      # pass in item_tfms\n",
    "                                                      batch_tfms=fastai.vision.all.setup_aug_tfms(\n",
    "                                                          [fastai.vision.all.Brightness(),\n",
    "                                                           fastai.vision.all.Contrast(),\n",
    "                                                           fastai.vision.all.Hue(),\n",
    "                                                           fastai.vision.all.Saturation()]))\n",
    "    dls2.show_batch()\n",
    "    return dls2"
   ],
   "metadata": {
    "collapsed": false,
    "pycharm": {
     "name": "#%%\n"
    }
   }
  },
  {
   "cell_type": "code",
   "execution_count": 10,
   "outputs": [],
   "source": [
    "\n",
    "def petfinder_rmse(input, target):\n",
    "    return 100 * torch.sqrt(tnnf.mse_loss(tnnf.sigmoid(input.flatten()), target))\n"
   ],
   "metadata": {
    "collapsed": false,
    "pycharm": {
     "name": "#%%\n"
    }
   }
  },
  {
   "cell_type": "code",
   "execution_count": 11,
   "outputs": [],
   "source": [
    "def learner(dls, model):\n",
    "    learn = Learner(dls, model, loss_func=BCEWithLogitsLossFlat(), metrics=petfinder_rmse).to_fp16()\n",
    "    learn.lr_find(end_lr=3e-2)\n",
    "    learn.fit_one_cycle(10, 2e-5, cbs=[SaveModelCallback(),\n",
    "                                       EarlyStoppingCallback(monitor='petfinder_rmse', comp=np.less, patience=3)])\n",
    "    learn.recorder.plot_loss()\n",
    "    learn = learn.to_fp32()\n",
    "    learn.save('fine-tuned')\n",
    "    learn.export()\n",
    "\n"
   ],
   "metadata": {
    "collapsed": false,
    "pycharm": {
     "name": "#%%\n"
    }
   }
  },
  {
   "cell_type": "code",
   "execution_count": 14,
   "outputs": [],
   "source": [
    "from fastai.learner import Learner\n",
    "from fastai.callback.tracker import SaveModelCallback\n",
    "\n",
    "from fastai.callback.tracker import EarlyStoppingCallback\n",
    "\n",
    "\n",
    "def main():\n",
    "    if not os.path.exists('/root/.cache/torch/hub/checkpoints/'):\n",
    "        os.makedirs('/root/.cache/torch/hub/checkpoints/')\n",
    "    !cp '../input/swin-transformer/swin_large_patch4_window7_224_22kto1k.pth' '/root/.cache/torch/hub/checkpoints/swin_large_patch4_window7_224_22kto1k.pth'\n",
    "    train_df, test_df, train_jpg, train_df, path = file_loader()\n",
    "    dls = data_loader(train_df, test_df, train_jpg, train_df, path)\n",
    "    health = timm.create_model('swin_large_patch4_window7_224', pretrained=True, num_classes=dls.c)\n",
    "    learner(dls, health)\n",
    "\n",
    "\n",
    "\n",
    "\n"
   ],
   "metadata": {
    "collapsed": false,
    "pycharm": {
     "name": "#%%\n"
    }
   }
  }
 ],
 "metadata": {
  "kernelspec": {
   "display_name": "Python 3",
   "language": "python",
   "name": "python3"
  },
  "language_info": {
   "codemirror_mode": {
    "name": "ipython",
    "version": 2
   },
   "file_extension": ".py",
   "mimetype": "text/x-python",
   "name": "python",
   "nbconvert_exporter": "python",
   "pygments_lexer": "ipython2",
   "version": "2.7.6"
  }
 },
 "nbformat": 4,
 "nbformat_minor": 0
}